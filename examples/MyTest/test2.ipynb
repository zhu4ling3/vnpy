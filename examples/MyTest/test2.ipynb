{
 "cells": [
  {
   "cell_type": "code",
   "execution_count": 1,
   "metadata": {
    "collapsed": true
   },
   "outputs": [
    {
     "data": {
      "image/png": "[encoded data removed]",
      "text/plain": [
       "<matplotlib.figure.Figure at 0x1cd4cf9add8>"
      ]
     },
     "metadata": {},
     "output_type": "display_data"
    }
   ],
   "source": [
    "%matplotlib inline\n",
    "import matplotlib.pyplot as plt\n",
    "\n",
    "plt.plot([1,2,3,4], [1,4,9,16],'o')\n",
    "plt.axis([0, 10, 0, 20])\n",
    "plt.show()"
   ]
  },
  {
   "cell_type": "code",
   "execution_count": 2,
   "metadata": {},
   "outputs": [
    {
     "name": "stdout",
     "output_type": "stream",
     "text": [
      "[ 0.   0.2  0.4  0.6  0.8  1.   1.2  1.4  1.6  1.8  2.   2.2  2.4  2.6  2.8\n  3.   3.2  3.4  3.6  3.8  4.   4.2  4.4  4.6  4.8  5.   5.2  5.4  5.6  5.8\n  6.   6.2  6.4  6.6  6.8  7.   7.2  7.4  7.6  7.8  8.   8.2  8.4  8.6  8.8\n  9.   9.2  9.4  9.6  9.8]\n"
     ]
    },
    {
     "data": {
      "text/plain": [
       "[<matplotlib.lines.Line2D at 0x1cd50d43898>,\n <matplotlib.lines.Line2D at 0x1cd50d43b38>,\n <matplotlib.lines.Line2D at 0x1cd50d4a3c8>]"
      ]
     },
     "execution_count": 2,
     "metadata": {},
     "output_type": "execute_result"
    },
    {
     "data": {
      "image/png": "[encoded data removed]",
      "text/plain": [
       "<matplotlib.figure.Figure at 0x1cd4fcbe7f0>"
      ]
     },
     "metadata": {},
     "output_type": "display_data"
    }
   ],
   "source": [
    "import numpy as np\n",
    "t = np.arange(0., 10., 0.2)\n",
    "print(t)\n",
    "plt.plot(t, t, 'r--', t, t**2, 'bs', t, t**3, 'g^')"
   ]
  },
  {
   "cell_type": "code",
   "execution_count": 3,
   "metadata": {},
   "outputs": [
    {
     "name": "stdout",
     "output_type": "stream",
     "text": [
      "[ 730123.  730124.  730125.  730126.  730127.  730128.  730129.  730130.\n  730131.]\n"
     ]
    },
    {
     "data": {
      "image/png": "[encoded data removed]",
      "text/plain": [
       "<matplotlib.figure.Figure at 0x1cd50d04390>"
      ]
     },
     "metadata": {},
     "output_type": "display_data"
    }
   ],
   "source": [
    "import csv\n",
    "import matplotlib.dates as mpd\n",
    "import datetime\n",
    "import mpl_finance as mpf\n",
    "\n",
    "str2date =lambda x: mpd.date2num(datetime.datetime.strptime(x, '%m/%d/%Y').date())\n",
    "\n",
    "data_text = \"\"\"\n",
    "date\\topen\\thigh\\tlow\\tclose\\tVolume\n",
    "1/4/2000\\t1368.692993\\t1407.517944\\t1361.213989\\t1406.370972\\t0\n",
    "1/5/2000\\t1407.828979\\t1433.780029\\t1398.322998\\t1409.682007\\t0\n",
    "1/6/2000\\t1406.036011\\t1463.954956\\t1400.253052\\t1463.942017\\t0\n",
    "1/7/2000\\t1477.154053\\t1522.824951\\t1477.154053\\t1516.604004\\t0\n",
    "1/8/2000\\t1477.154053\\t1522.824951\\t1477.154053\\t1516.604004\\t0\n",
    "1/9/2000\\t1531.712036\\t1546.723022\\t1506.404053\\t1545.112061\\t0\n",
    "1/10/2000\\t1531.712036\\t1546.723022\\t1506.404053\\t1545.112061\\t0\n",
    "1/11/2000\\t1547.677979\\t1547.708008\\t1468.756958\\t1479.781006\\t0\n",
    "1/12/2000\\t1473.760986\\t1489.280029\\t1434.995972\\t1438.02002\\t0\"\"\"\n",
    "data_list = list(csv.reader(data_text.strip().splitlines(), delimiter='\\t'))\n",
    "columns = data_list[0]\n",
    "quotes = [[str2date(d[0])] + [float(v) for v in d[1:-1]] for d in data_list[1:]]\n",
    "date =  np.array([o[0] for o in quotes])\n",
    "print(date)\n",
    "[date[2]]\n",
    "ax1 = plt.gca()\n",
    "mpf.candlestick_ohlc(ax1,quotes,width=0.4,colorup='g',colordown='r')\n",
    "ax1.xaxis_date()\n",
    "plt.setp(ax1.get_xticklabels(), rotation=30)\n",
    "ax1.plot([date[3]],[1500], 'ro')\n",
    "ax1.autoscale_view()\n"
   ]
  },
  {
   "cell_type": "code",
   "execution_count": 4,
   "metadata": {},
   "outputs": [],
   "source": [
    ""
   ]
  },
  {
   "cell_type": "code",
   "execution_count": 4,
   "metadata": {},
   "outputs": [],
   "source": []
  },
  {
   "cell_type": "code",
   "execution_count": null,
   "metadata": {},
   "outputs": [],
   "source": []
  }
 ],
 "metadata": {
  "kernelspec": {
   "display_name": "Python 2",
   "language": "python",
   "name": "python2"
  },
  "language_info": {
   "codemirror_mode": {
    "name": "ipython",
    "version": 2
   },
   "file_extension": ".py",
   "mimetype": "text/x-python",
   "name": "python",
   "nbconvert_exporter": "python",
   "pygments_lexer": "ipython2",
   "version": "2.7.6"
  }
 },
 "nbformat": 4,
 "nbformat_minor": 0
}
