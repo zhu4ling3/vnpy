{
 "cells": [
  {
   "cell_type": "code",
   "execution_count": 2,
   "metadata": {
    "collapsed": false
   },
   "outputs": [],
   "source": [
    "import logging\n",
    "\n",
    "logger = logging.getLogger(__name__)\n",
    "logger.setLevel(level=logging.INFO)\n",
    "handler = logging.FileHandler(\"aaa.log\")\n",
    "handler.setLevel(logging.INFO)\n",
    "formatter = logging.Formatter('%(levelname)s %(asctime)s - %(message)s')\n",
    "handler.setFormatter(formatter)\n",
    "logger.addHandler(handler)\n",
    "\n"
   ]
  },
  {
   "cell_type": "code",
   "execution_count": 35,
   "metadata": {
    "collapsed": false
   },
   "outputs": [
    {
     "name": "stdout",
     "output_type": "stream",
     "text": [
      "前三个data_list===== [['date', 'open', 'high', 'low', 'close', 'Volume'], ['03/17/1980', '15.63', '15.88', '15.5', '15.63', '337'], ['03/18/1980', '15.5', '15.5', '15.0', '15.5', '1913']]\n"
     ]
    }
   ],
   "source": [
    "from pymongo import MongoClient, ASCENDING, DESCENDING\n",
    "import pytz\n",
    "from datetime import datetime\n",
    "\n",
    "logger.info('begin')\n",
    "try:\n",
    "    dbclient = MongoClient('busrv1.bud.zlzen.com', 27017, connectTimeoutMS=1000)\n",
    "    # 调用server_info查询服务器状态，防止服务器异常并未连接成功\n",
    "    dbclient.server_info()\n",
    "except Exception as e:\n",
    "    logger.exception('数据库连接失败')\n",
    "    print('数据库连接失败')\n",
    "\n",
    "dbname = 'vntrader_1day_db'\n",
    "colname = 'WHR.USD.STK.SMART'\n",
    "collection = dbclient[dbname][colname]\n",
    "cursor = collection.find({\n",
    "    'datetime': {\n",
    "        '$gte': pytz.timezone('UTC').localize(datetime.strptime('19800101','%Y%m%d')),\n",
    "        '$lte': pytz.timezone('UTC').localize(datetime.strptime('20180101','%Y%m%d')),\n",
    "    }\n",
    "}).sort('datetime', ASCENDING)\n",
    "\n",
    "\n",
    "data_list = [['date', 'open', 'high', 'low', 'close', 'Volume']] +\\\n",
    "            [\n",
    "                [\n",
    "                    o['datetime'].strftime('%m/%d/%Y'),\n",
    "                     str(o['open']), \n",
    "                     str(o['high']),\n",
    "                     str(o['low']),\n",
    "                     str(o['close']),\n",
    "                     str(o['volume'])\n",
    "                ] for o in cursor\n",
    "            ]\n",
    "print('前三个data_list=====', data_list[:3])\n",
    "\n"
   ]
  },
  {
   "cell_type": "code",
   "execution_count": 38,
   "metadata": {
    "collapsed": false
   },
   "outputs": [
    {
     "name": "stdout",
     "output_type": "stream",
     "text": [
      "前三个quotes===== [[722891.0, 15.63, 15.88, 15.5, 15.63], [722892.0, 15.5, 15.5, 15.0, 15.5], [722893.0, 15.63, 15.63, 15.5, 15.63]]\n"
     ]
    },
    {
     "data": {
      "image/png": "[encoded data removed]",
      "text/plain": [
       "<Figure size 432x288 with 1 Axes>"
      ]
     },
     "metadata": {},
     "output_type": "display_data"
    }
   ],
   "source": [
    "# %matplotlib inline\n",
    "import matplotlib.pyplot as plt\n",
    "import numpy as np\n",
    "import matplotlib.dates as mpd\n",
    "import datetime\n",
    "import mpl_finance as mpf\n",
    "\n",
    "\n",
    "str2date =lambda x: mpd.date2num(datetime.datetime.strptime(x, '%m/%d/%Y').date())\n",
    "\n",
    "# data_text = \"\"\"\n",
    "# date\\topen\\thigh\\tlow\\tclose\\tVolume\n",
    "# 1/4/2000\\t1368.692993\\t1407.517944\\t1361.213989\\t1406.370972\\t0\n",
    "# 1/5/2000\\t1407.828979\\t1433.780029\\t1398.322998\\t1409.682007\\t0\n",
    "# 1/6/2000\\t1406.036011\\t1463.954956\\t1400.253052\\t1463.942017\\t0\n",
    "# 1/7/2000\\t1477.154053\\t1522.824951\\t1477.154053\\t1516.604004\\t0\n",
    "# 1/8/2000\\t1477.154053\\t1522.824951\\t1477.154053\\t1516.604004\\t0\n",
    "# 1/9/2000\\t1531.712036\\t1546.723022\\t1506.404053\\t1545.112061\\t0\n",
    "# 1/10/2000\\t1531.712036\\t1546.723022\\t1506.404053\\t1545.112061\\t0\n",
    "# 1/11/2000\\t1547.677979\\t1547.708008\\t1468.756958\\t1479.781006\\t0\n",
    "# 1/12/2000\\t1473.760986\\t1489.280029\\t1434.995972\\t1438.02002\\t0\"\"\"\n",
    "# data_list = list(csv.reader(data_text.strip().splitlines(), delimiter='\\t'))\n",
    "columns = data_list[0]\n",
    "quotes = [[str2date(d[0])] + [float(v) for v in d[1:-1]] for d in data_list[1:]]\n",
    "date =  np.array([o[0] for o in quotes])\n",
    "print('前三个quotes=====',quotes[:3])\n",
    "ax1 = plt.gca()\n",
    "mpf.candlestick_ohlc(ax1,quotes,width=0.4,colorup='g',colordown='r')\n",
    "ax1.xaxis_date()\n",
    "plt.setp(ax1.get_xticklabels(), rotation=30)\n",
    "# ax1.plot([date[3]],[1500], 'ro')\n",
    "ax1.autoscale_view()\n"
   ]
  },
  {
   "cell_type": "code",
   "execution_count": 9,
   "metadata": {},
   "outputs": [],
   "source": []
  },
  {
   "cell_type": "code",
   "execution_count": null,
   "metadata": {},
   "outputs": [],
   "source": []
  }
 ],
 "metadata": {
  "kernelspec": {
   "display_name": "Python 2",
   "language": "python",
   "name": "python2"
  },
  "language_info": {
   "codemirror_mode": {
    "name": "ipython",
    "version": 2
   },
   "file_extension": ".py",
   "mimetype": "text/x-python",
   "name": "python",
   "nbconvert_exporter": "python",
   "pygments_lexer": "ipython2",
   "version": "2.7.6"
  }
 },
 "nbformat": 4,
 "nbformat_minor": 0
}
